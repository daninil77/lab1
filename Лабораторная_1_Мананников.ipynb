{
  "cells": [
    {
      "cell_type": "markdown",
      "metadata": {
        "id": "view-in-github",
        "colab_type": "text"
      },
      "source": [
        "<a href=\"https://colab.research.google.com/github/daninil77/lab1/blob/master/%D0%9B%D0%B0%D0%B1%D0%BE%D1%80%D0%B0%D1%82%D0%BE%D1%80%D0%BD%D0%B0%D1%8F_1_%D0%9C%D0%B0%D0%BD%D0%B0%D0%BD%D0%BD%D0%B8%D0%BA%D0%BE%D0%B2.ipynb\" target=\"_parent\"><img src=\"https://colab.research.google.com/assets/colab-badge.svg\" alt=\"Open In Colab\"/></a>"
      ]
    },
    {
      "cell_type": "markdown",
      "metadata": {
        "id": "Puwae4sJUE1n"
      },
      "source": [
        " ### Тема: Решение нелинейных уравнений\n",
        "\n",
        "**Выполнил**: Мананников Даниил (ИВТ-22) (danil_game1@mail.ru)\n",
        "\n",
        "**Преподаватель**: Гурьянов М.А., кафедра ВМ-1\n",
        "\n",
        "###### Лабораторная работа № **1**, вариант № **15**\n",
        "\n",
        "###### Весенний семестр, 2022 год\n",
        "\n",
        "###### МИЭТ, Зеленоград"
      ]
    },
    {
      "cell_type": "markdown",
      "metadata": {
        "id": "Ytf0cRUJV_Lt"
      },
      "source": [
        "### 1. Теоретическая справка \n",
        "\n"
      ]
    },
    {
      "cell_type": "markdown",
      "source": [
        "Все уранвения, которые не являются линейными называются нелинейными. Нелинейным называется уравнение вида $f(x) = 0$ , где $f(x)$ - некоторая нелинейная функция, $f(x)$ не равен  $a*x + b$, где $a,b = const$\n",
        "\n",
        "Поиск корня - процесс итерационный\n",
        "\n",
        "$x_n$ - $n$-ое приближение к корню\n",
        "\n",
        "$x_*$  - точное значение корня\n",
        "\n",
        "$|x_n - x_*|$ - погрешность на $n$-ом шаге\n",
        "\n",
        "###**Задача численных методов не зная $x_*$ найти $x_n$ , так, чтобы $|x_n - x_*| < ϵ$ , где $ϵ$ - заданная точность\n",
        "\n",
        "Шаги реализации решения уравнения : \n",
        "1. Локализовать корень - найти отрезок $[a,b]$, содержащий *единственный корень*\n",
        "2. Применить на отрезок $[a,b]$ один из методов решения с заданной точность $ϵ$\n",
        "\n",
        "\n",
        "Способы локализации корня :\n",
        "1. Исследовать ур-е методам **Математического анализа** \n",
        "2. Физические соображение. Например скорость $u > 0$ и $u < u_m$\n",
        "3. Построить приближенно график функции\n",
        "4. Составить таблицу знаков функции с некоторым шагом\n",
        "\n",
        "В лабораторной работе рассматриваются 2 метода решения нелинейного уравнения : \n",
        "1. **Метод Дихотомии**\n",
        "2. **Метод Ньютона**\n",
        "\n",
        "### **Метод Дихотомии**\n",
        "\n",
        "Метод Дихотомия - метод деление отрезка попал.\n",
        "\n",
        "Метод деления пополам позволяет исключать в точности половину интервала на каждой итерации. При использовании метода считается, что функция непрерывна и имеет на концах интервала разный знак $f(x) * f(b) < 0$ (*обязательное требование*). После вычисления значения функции в середине интервала одна часть интервала отбрасывается так, чтобы функция имела разный знак на концах оставшейся части. Итерации метода деления пополам прекращаются, если интервал становится достаточно малым\n",
        "\n",
        "### **Метод Ньютона**\n",
        "\n",
        "Входным параметром алгоритма, кроме функции $f(x)$, является также начальное приближение - некоторое $x_0$, от которого алгоритм начинает идти\n",
        "\n",
        "Пусть уже вычислено $x_i$, вычислим $x_{i+1}$ следующим образом. Проведем касательную к графику функции $f(x)$ в точке $x = x_i$ и найдем точку пересечения этой касательной с осью абсцисс. $x_{i+1}$ положим равным найденной точке, и повторим весь процесс с начала.\n",
        "\n",
        "Формула будет иметь вид :\n",
        "$$\n",
        "  x_{i+1} = x_i - \\frac{f(x_i)}{f^\\prime(x_i)}\n",
        "$$\n",
        "\n",
        "Если функция $f(x)$ достаточно гладкая, а $x_i$ находится достаточно  близко от корня, то $x_{i+1}$ будет находиться еще ближе к искомому корню.\n",
        "\n",
        "Скорость сходимости является квадратичной, что, условно говоря, означает, что число точных разрадов в приближенном значении $x_i$, удваивается с каждой итерацией\n",
        "\n",
        "### 3. Предлагаемое решение и его точность\n",
        "$$$$\n",
        "В качестве входных параметров используются : \n",
        "* Целевая функция $f(x)$ заданная симваольно(аналитически)\n",
        "* Отрезок $[a,b]$ определяемый оператором \n",
        "* Требуемая точность результата $\\epsilon$\n",
        "* Первое приблежние корня $\\bar x = x_0$, которое \n",
        "  * в случае метода Ньютона задается оператором \n",
        "  * в случае метода Дихитомии определяется как $x_0 = (a+b)/2$\n",
        "\n",
        "$$$$\n",
        "**Результатом работы являются**\n",
        "*Численное значние $\\bar x$ с заданной точностью $ϵ$\n",
        "$$$$\n",
        "\n",
        "$$$$\n",
        "**Источники ошибки**:\n",
        "1. Метод решения (дихотомии или деления пополам) должен сходиться, в противном случае $\\epsilon = \\infty$\n",
        "2. Количество итераций $n$ метода решения определяет ошибку\n",
        "   1. Дихотомия: $$\\epsilon = \\frac{|b-a|}{2^n}$$\n",
        "   2. Ньютон (формула действительна для $x_0-\\bar x < 1$): $$\\epsilon = |x_0 - \\bar x|^{2n}$$\n",
        "3. Входные данные считаются точными и ошибки не привносят\n",
        "4. В программе величина ошибки ограничена точностью вычислений. При расчетах используется точность Double так что можно сказать что существует предел для значения $\\epsilon$: $$\\epsilon_{min} = 10^{-15}$$\n",
        "\n",
        "##### Алгоритм решения методом Ньютона\n",
        "\n",
        "**Шаг 1**: Запомнить текущее состояние и увеличить счетчик шагов \n",
        "\n",
        "$$\n",
        "x_{old} = x\\\\\n",
        "x = x_{new}\\\\\n",
        "f = f(x)\n",
        "$$\n",
        "\n",
        "**Шаг 2**: Посчитать производную численно\n",
        "$$\n",
        "f' \\approx \\frac{f(x+\\epsilon)-f(x-\\epsilon)}{2\\epsilon}\n",
        "$$\n",
        "\n",
        "**Шаг 3**: Посчитать и запомнить новое приближение корня\n",
        "$$\n",
        "x_{new} = x - \\frac{f}{f'} \\approx  x - \\frac{2f(x)\\epsilon}{f(x+\\epsilon)-f(x-\\epsilon)}\n",
        "$$\n",
        "\n",
        "**Шаг 4**: Проверить условие сходимости, проверить текущую невязку и перейти к шагу 1\n",
        "$$\n",
        "\\begin{cases}\n",
        "|x_{new} - x| < |x - x_{old}|\\\\\n",
        "\\epsilon_{new} = f' \\cdot |x_{new} - x|\\\\\n",
        "\\end{cases}\n",
        "$$\n",
        "Если требуемая точность не достигнута, мы продолжаем\n",
        "$$\n",
        "\\epsilon_{new} > \\epsilon \n",
        "$$"
      ],
      "metadata": {
        "id": "I0Qik8ZeQ-FO"
      }
    },
    {
      "cell_type": "markdown",
      "metadata": {
        "id": "J1tTy17dacyU"
      },
      "source": [
        "### 2.***Постановка задачи. Изображение функции на отрезке [1;2]***"
      ]
    },
    {
      "cell_type": "code",
      "execution_count": 54,
      "metadata": {
        "colab": {
          "base_uri": "https://localhost:8080/",
          "height": 268
        },
        "id": "3LkC_7DKazxm",
        "outputId": "a145aa69-2e69-4a1d-beec-117e05203192"
      },
      "outputs": [
        {
          "output_type": "display_data",
          "data": {
            "image/png": "[encoded data removed]",
            "text/plain": [
              "<Figure size 432x288 with 1 Axes>"
            ]
          },
          "metadata": {
            "needs_background": "light"
          }
        }
      ],
      "source": [
        "import numpy as np\n",
        "import matplotlib.pyplot as plt\n",
        "\n",
        "## Задаем функцию y=(log(x)+x)cos(x^2)+1/3\n",
        "researched_func= lambda x:(np.log(x)+x)*(np.cos(x**(2)))+1/3\n",
        "func_domain = (1,2)\n",
        "\n",
        "## Изображение функции\n",
        "\n",
        "# Рисуем:\n",
        "x = np.linspace(func_domain[0], func_domain[1],1000)\n",
        "y = researched_func(x)\n",
        "\n",
        "plt.plot(x,y)\n",
        "plt.hlines(0,1,2)\n",
        "plt.grid(True)\n",
        "plt.show()\n",
        "\n"
      ]
    },
    {
      "cell_type": "markdown",
      "metadata": {
        "id": "--yLcMSzlmW4"
      },
      "source": [
        "Как мы видим у нашей функции есть четко выделенный корень на интервале примерно от 1,2 до 1,4. На этом интервале мы применим метод дихотомии"
      ]
    },
    {
      "cell_type": "markdown",
      "metadata": {
        "id": "LLolJ_rHkRgJ"
      },
      "source": [
        "## **1.  Решение методом Дихотомии**\n"
      ]
    },
    {
      "cell_type": "markdown",
      "metadata": {
        "id": "4lwvGnommRlq"
      },
      "source": [
        "**Текст, выделенный полужирным шрифтом**>**Задание # 1**: Модифицируйте так чтобы алгоритм заканчивался если вдруг случайно при делении отрезка пополам попал на точное значение корня. Протестируйте на функции $$y = (x-3)(x-1)$$\n",
        "\n",
        ">Ищите корень $x = 1$ на отрезке $x\\in[0,2]$"
      ]
    },
    {
      "cell_type": "markdown",
      "metadata": {
        "id": "44zlJFdznTBM"
      },
      "source": [
        "  Код с изменениями,проверку осущетвим на функции  $$y = (x-3)(x-1)$$"
      ]
    },
    {
      "cell_type": "code",
      "execution_count": 4,
      "metadata": {
        "colab": {
          "base_uri": "https://localhost:8080/"
        },
        "id": "zfBfQx7dnRkH",
        "outputId": "ee17021e-6f0c-42c7-c5b8-53e24ff99660"
      },
      "outputs": [
        {
          "output_type": "stream",
          "name": "stdout",
          "text": [
            "Корень был найден в X = 1.0\n",
            "С точностью EPS =  0.0001\n",
            "1\n"
          ]
        }
      ],
      "source": [
        "def dyhotomy_root_upgraded(func,interval,eps=0.0001):\n",
        "    (left,right) = interval \n",
        "\n",
        "    root = None\n",
        "    roots = []\n",
        "\n",
        "    # Алгоритм работы по шагам указан в пункте \"Решение\". Шаги отмечены в коде.\n",
        "    while ((right - left) > eps) and (root == None):\n",
        "\n",
        "        # Шаг 1: Проверить условие точности и Рассчитать координаты центра\n",
        "        center = (right + left)/2\n",
        "\n",
        "        # Добавляем предполагаемый корень в массив шагов алгоритма\n",
        "        roots.append(center)\n",
        "\n",
        "        #При попадании центра прямо на точное значение корня, алгоритм останавливается\n",
        "        #И выводит найденные корни\n",
        "        if(func(center)==0): \n",
        "\n",
        "          #root_dps нужна чтобы узнать необходимое количество знаков после запятой\n",
        "          #по введенному пользователем eps\n",
        "          #log10(eps) высчитывает степень (степень и есть количество знаков ), \n",
        "          #А знак \"-\" делает число положительным\n",
        "          root_dps = int(round((-np.log10(eps))))\n",
        "\n",
        "          if root_dps <= 0:\n",
        "            root_dps = 1\n",
        "          \n",
        "          print (\"Корень был найден в X =\",round (center,root_dps))\n",
        "          print (\"С точностью EPS = \",eps)\n",
        "          return roots\n",
        "\n",
        "        # Шаг 2: выбрать половинку в которой находится корень.\n",
        "        if  (func(left)*func(center) <0):\n",
        "\n",
        "            # Корень в левой половинке отрезка\n",
        "            # Шаг 3: Взять в качестве исходной ЛЕВУЮ половинку отрезка и перейти к шагу 1\n",
        "            right = center\n",
        "\n",
        "        else:\n",
        "\n",
        "            # Корень в правой половинке отрезка\n",
        "            # Шаг 3: Взять в качестве исходной ПРАВУЮ половинку отрезка и перейти к шагу 1\n",
        "            left = center\n",
        "\n",
        "    # Шаг 4: Вычислить окончательное значение корня уравнения\n",
        "    root =  (right + left)/2\n",
        "\n",
        "    # Добавляем предполагаемый корень в массив шагов алгоритма\n",
        "    roots.append(root)\n",
        "\n",
        "    \n",
        "    root_dps = int(round((-np.log10(eps))))\n",
        "\n",
        "    # Если пользователь задал точность в ноль знаков после запятой (что бывает) \n",
        "    # надо вывести хотя бы один...\n",
        "    if root_dps <= 0:\n",
        "        root_dps = 1\n",
        "    \n",
        "    # Выводим только правильные цифры в значении Х.\n",
        "    # \n",
        "\n",
        "    print (\"Корень был найден в X =\",round (root,root_dps))\n",
        "    print (\"С точностью EPS = \",eps)\n",
        "    return roots\n",
        "\n",
        "researched_func = lambda x: (x-3)*(x-1)\n",
        "func_domain = (0,2)\n",
        "dyhotomy_steps_x = dyhotomy_root_upgraded(researched_func,func_domain,0.0001)\n",
        "print(len(dyhotomy_steps_x))"
      ]
    },
    {
      "cell_type": "markdown",
      "metadata": {
        "id": "5jTq9Lh4vaM3"
      },
      "source": [
        "####Решение методом Дихотомии своей функции"
      ]
    },
    {
      "cell_type": "markdown",
      "metadata": {
        "id": "nXNavXLcvfnm"
      },
      "source": [
        "#Функция:\n",
        "y=(log(x)+x)cos(x^2)+1/3\n"
      ]
    },
    {
      "cell_type": "code",
      "execution_count": 5,
      "metadata": {
        "colab": {
          "base_uri": "https://localhost:8080/"
        },
        "id": "_jCJdlxJvwsf",
        "outputId": "672e4e23-aad2-4e80-e659-86fb2362270d"
      },
      "outputs": [
        {
          "output_type": "stream",
          "name": "stdout",
          "text": [
            "Корень был найден в X = 1.33338\n",
            "С точностью EPS =  1e-05\n",
            "18\n"
          ]
        }
      ],
      "source": [
        "def dyhotomy_root_upgraded(func,interval,eps=0.0001):\n",
        "    (left,right) = interval \n",
        "\n",
        "    root = None\n",
        "    roots = []\n",
        "\n",
        "    # Алгоритм работы по шагам указан в пункте \"Решение\". Шаги отмечены в коде.\n",
        "    while ((right - left) > eps) and (root == None):\n",
        "\n",
        "        # Шаг 1: Проверить условие точности и Рассчитать координаты центра\n",
        "        center = (right + left)/2\n",
        "\n",
        "        # Добавляем предполагаемый корень в массив шагов алгоритма\n",
        "        roots.append(center)\n",
        "\n",
        "        #При попадании центра прямо на точное значение корня, алгоритм останавливается\n",
        "        #И выводит найденные корни\n",
        "        if(func(center)==0): \n",
        "\n",
        "          #root_dps нужна чтобы узнать необходимое количество знаков после запятой\n",
        "          #по введенному пользователем eps\n",
        "          #log10(eps) высчитывает степень (степень и есть количество знаков ), \n",
        "          #А знак \"-\" делает число положительным\n",
        "          root_dps = int(round((-np.log10(eps))))\n",
        "\n",
        "          if root_dps <= 0:\n",
        "            root_dps = 1\n",
        "          \n",
        "          print (\"Корень был найден в X =\",round (center,root_dps))\n",
        "          print (\"С точностью EPS = \",eps)\n",
        "          return roots\n",
        "\n",
        "        # Шаг 2: выбрать половинку в которой находится корень.\n",
        "        if  (func(left)*func(center) <0):\n",
        "\n",
        "            # Корень в левой половинке отрезка\n",
        "            # Шаг 3: Взять в качестве исходной ЛЕВУЮ половинку отрезка и перейти к шагу 1\n",
        "            right = center\n",
        "\n",
        "        else:\n",
        "\n",
        "            # Корень в правой половинке отрезка\n",
        "            # Шаг 3: Взять в качестве исходной ПРАВУЮ половинку отрезка и перейти к шагу 1\n",
        "            left = center\n",
        "\n",
        "    # Шаг 4: Вычислить окончательное значение корня уравнения\n",
        "    root =  (right + left)/2\n",
        "\n",
        "    # Добавляем предполагаемый корень в массив шагов алгоритма\n",
        "    roots.append(root)\n",
        "\n",
        "    \n",
        "    root_dps = int(round((-np.log10(eps))))\n",
        "\n",
        "    # Если пользователь задал точность в ноль знаков после запятой  надо вывести хотя бы один...\n",
        "    if root_dps <= 0:\n",
        "        root_dps = 1\n",
        "    \n",
        "    # Выводим только правильные цифры в значении Х.\n",
        "     \n",
        "\n",
        "    print (\"Корень был найден в X =\",round (root,root_dps))\n",
        "    print (\"С точностью EPS = \",eps)\n",
        "\n",
        "    \n",
        "    return roots\n",
        "\n",
        "researched_func = lambda x:(np.log(x)+x)*(np.cos(x**(2)))+1/3 \n",
        "func_domain = (1,2)\n",
        "dyhotomy_steps_x = dyhotomy_root_upgraded(researched_func,func_domain,0.00001)\n",
        "print(len(dyhotomy_steps_x))"
      ]
    },
    {
      "cell_type": "markdown",
      "metadata": {
        "id": "WgmutTRF0ngH"
      },
      "source": [
        "**Задание № 2**  Постройте график зависимости количества правильных знаков после запятой от количества шагов алгоритма. Это задание выполните для всех методов поиска корня в вашей лабораторной"
      ]
    },
    {
      "cell_type": "code",
      "execution_count": 6,
      "metadata": {
        "colab": {
          "base_uri": "https://localhost:8080/",
          "height": 749
        },
        "id": "OxXAU5sX0ofp",
        "outputId": "d8d5cb52-1c7a-4dda-f6dd-ae59cbd8f1d3"
      },
      "outputs": [
        {
          "output_type": "stream",
          "name": "stdout",
          "text": [
            "Корень был найден в X = 1.5\n",
            "С точностью EPS =  1\n",
            "Корень был найден в X = 1.3\n",
            "С точностью EPS =  0.1\n",
            "Корень был найден в X = 1.33\n",
            "С точностью EPS =  0.01\n",
            "Корень был найден в X = 1.333\n",
            "С точностью EPS =  0.001\n",
            "Корень был найден в X = 1.3334\n",
            "С точностью EPS =  0.0001\n",
            "Корень был найден в X = 1.33338\n",
            "С точностью EPS =  1e-05\n",
            "Корень был найден в X = 1.333377\n",
            "С точностью EPS =  1e-06\n",
            "Корень был найден в X = 1.3333777\n",
            "С точностью EPS =  1e-07\n",
            "Корень был найден в X = 1.33337772\n",
            "С точностью EPS =  1e-08\n",
            "Корень был найден в X = 1.333377726\n",
            "С точностью EPS =  1e-09\n",
            "Корень был найден в X = 1.3333777256\n",
            "С точностью EPS =  1e-10\n",
            "Корень был найден в X = 1.33337772558\n",
            "С точностью EPS =  1e-11\n",
            "Корень был найден в X = 1.333377725583\n",
            "С точностью EPS =  1e-12\n"
          ]
        },
        {
          "output_type": "display_data",
          "data": {
            "image/png": "[encoded data removed]",
            "text/plain": [
              "<Figure size 432x288 with 1 Axes>"
            ]
          },
          "metadata": {
            "needs_background": "light"
          }
        }
      ],
      "source": [
        "steps = []\n",
        "decimal_places = []\n",
        "for i in range(0,13):\n",
        "  decimal_places.append(int(round((-np.log10(10**(-i))))))\n",
        "  steps.append(len(dyhotomy_root_upgraded(researched_func, func_domain, 10**(-i))))\n",
        "# график зависимости\n",
        "x = decimal_places\n",
        "y = steps\n",
        "plt.plot(x,y,'ro-')\n",
        "plt.xticks(decimal_places, color=\"b\", size=13)\n",
        "plt.ylabel('Шаг')\n",
        "plt.xlabel('Количество символов после запятой')\n",
        "plt.title('График зависимости количества символов от количества шагов алгоритма')\n",
        "plt.grid(True)\n",
        "plt.show()"
      ]
    },
    {
      "cell_type": "markdown",
      "metadata": {
        "id": "qsWQoGmY1TY8"
      },
      "source": [
        "> **Задание № 3**  самостоятельно разберитесь с командой SUBPLOT (как в матлабе) и нарисуйте рядом справа от этого графика еще один с другим масштабом и без аннотаций. Выделите код рисования графика в отдельную функцию."
      ]
    },
    {
      "cell_type": "code",
      "execution_count": 7,
      "metadata": {
        "colab": {
          "base_uri": "https://localhost:8080/",
          "height": 516
        },
        "id": "8AEm85cf1WFH",
        "outputId": "04f72292-58ab-4f3f-b00e-d3b85cab6587"
      },
      "outputs": [
        {
          "output_type": "display_data",
          "data": {
            "image/png": "[encoded data removed]",
            "text/plain": [
              "<Figure size 432x288 with 1 Axes>"
            ]
          },
          "metadata": {
            "needs_background": "light"
          }
        },
        {
          "output_type": "display_data",
          "data": {
            "image/png": "[encoded data removed]",
            "text/plain": [
              "<Figure size 432x288 with 1 Axes>"
            ]
          },
          "metadata": {
            "needs_background": "light"
          }
        }
      ],
      "source": [
        "def plot_roots_sequence(x_array,annotations = True):\n",
        "    n = len(x_array)\n",
        "    # Цвета кодируем в формате RGB\n",
        "    colors = np.zeros((n,3))\n",
        "    #Красный цвет уменьшается\n",
        "    colors[:,0] = np.linspace(0.5,0,n)\n",
        "    #Зеленый цвет возрастает\n",
        "    colors[:,1] = np.linspace(0,1,n)\n",
        "\n",
        "    for i in range(n):\n",
        "        #Рисуем точку звездочкой.\n",
        "        plt.plot(x_array[i],0,c = colors[i], label = i, marker='*')     \n",
        "        if annotations:\n",
        "            # Функция аннотации помечает текстом каждую из точек. \n",
        "            plt.annotate(i,\n",
        "                 xy=(x_array[i], 0), xycoords='data',\n",
        "                 xytext=(-8*n/2+10*(i), +3*(n-i+2)), \n",
        "                 textcoords='offset points', fontsize=8,\n",
        "                 arrowprops=dict(arrowstyle=\"-\", connectionstyle=\"arc3\"))\n",
        "\n",
        "# Теперь запустим нашу функцию\n",
        "plt.subplot(1,2,1);\n",
        "plot_roots_sequence(dyhotomy_steps_x)\n",
        "\n",
        "# Строительство графика plot_func\n",
        "def plot_func(researched_func,interval=(1,2)):\n",
        "  x = np.linspace(interval[0],interval[1],1000)\n",
        "  y = researched_func(x)\n",
        "  plt.plot(x,y)\n",
        "  plt.grid(True)\n",
        "  plt.show()\n",
        "\n",
        "plot_func(researched_func)\n",
        "plt.subplot(1,2,2)\n",
        "plot_func(researched_func,(1,4))"
      ]
    },
    {
      "cell_type": "markdown",
      "source": [
        "#### Решение методом Ньютона"
      ],
      "metadata": {
        "id": "mmTzBDhC_jn0"
      }
    },
    {
      "cell_type": "code",
      "source": [
        "def newton_root(func,first_approx,interval,eps = 0.0001, need_print=True):\n",
        "    \"\"\"Find the root on the interval by\n",
        "    Newtons method\"\"\"\n",
        "    \n",
        "    \n",
        "    def numerical_diff(f,x,eps = 0.001):\n",
        "        \"\"\"Calculates differential by definition\"\"\"\n",
        "        res = (f(x+eps)-f(x-eps))/(2*eps)\n",
        "        return res\n",
        "    \n",
        "    x = first_approx\n",
        "    x_next = x\n",
        "    x_old = x\n",
        "\n",
        "    error = False\n",
        "    \n",
        "    \n",
        "    # Запомним количество шагов\n",
        "    steps = 0\n",
        "\n",
        "    # Создаем массив корней куда запишем последовательно все результаты\n",
        "    x_array = []\n",
        "    x_array.append(x)\n",
        "    \n",
        "    \n",
        "    #Проведём первую итерацию вне цикла, чтобы не было индусокода\n",
        "    steps += 1\n",
        "    x = x_next\n",
        "    f_current = func(x)\n",
        "    df = numerical_diff(func,x)\n",
        "\n",
        "    x_next = x - f_current/df\n",
        "    \n",
        "    x_array.append(x_next)\n",
        "    f_next = func(x_next)\n",
        "\n",
        "    eps_new = df*abs(x_next-x)\n",
        "\n",
        "    if (abs(f_next) - abs(f_current)) > 0:\n",
        "            error = True\n",
        "\n",
        "    root_dps = int(round((-np.log10(eps))))\n",
        "\n",
        "    while (abs(eps_new) > eps):\n",
        "        # Шаг 1: Запомнить текущее состояние и увеличить счетчик шагов\n",
        "        x_old = x\n",
        "        steps += 1\n",
        "        x = x_next\n",
        "        f_current = func(x)\n",
        "        df = numerical_diff(func,x)\n",
        "\n",
        "        # шаг 2: Посчитать следующее приближение корня через производную.\n",
        "        x_next = x - f_current/df\n",
        "\n",
        "        # шаг 3: Запомнить новое приближение корня\n",
        "        x_array.append(x_next)\n",
        "        f_next = func(x_next)\n",
        "\n",
        "\n",
        "        eps_new = df*abs(x_next-x)\n",
        "        # Шаг 4: Проверить на расходимость и перейти к шагу 1\n",
        "        # Для этого мы проверяем, стало ли значение функции уходить\n",
        "        # с каждой итерацией всё дальше от нуля\n",
        "        # ВАЖНО: это только один из вариантов проверки, общего решения нет.\n",
        "        if (abs(f_next) - abs(f_current)) > 0:\n",
        "            error = True\n",
        "    \n",
        "    # Если в ходе решения мы обнаружили проблемы со сходимостью, \n",
        "    # ответ мы не отдаем \n",
        "    if error:\n",
        "        print(\"The method does not converge\")\n",
        "        return None\n",
        "    else:\n",
        "        if(need_print):\n",
        "            print(\"The root is found in \", steps, \"steps\")\n",
        "            print(\"the root is \",round(x_next, root_dps )) \n",
        "        return x_array\n",
        "\n",
        "#Зададим вручную начальное приближение\n",
        "x_seed = 1.4\n",
        "\n",
        "\n",
        "# Посчитаем ответ\n",
        "\n",
        "newton_steps_x = newton_root(researched_func,\n",
        "                    x_seed,\n",
        "                    func_domain,\n",
        "                    0.0000001)\n"
      ],
      "metadata": {
        "colab": {
          "base_uri": "https://localhost:8080/"
        },
        "id": "kPPUxxKs_u58",
        "outputId": "a77b1cea-96e5-4951-9b98-23472cf5ab6c"
      },
      "execution_count": 19,
      "outputs": [
        {
          "output_type": "stream",
          "name": "stdout",
          "text": [
            "The root is found in  4 steps\n",
            "the root is  1.3333777\n"
          ]
        }
      ]
    },
    {
      "cell_type": "markdown",
      "source": [
        "> **Задание № 4**  Посчитайте для своей функции методом полного перебора с малым шагом интервал сходимости. т.е. найдите при каких начальных приближениях корень ищется корректно, а при каких - нет (лиоб происходит зацикливание либо находится не тот корень). Результат проиллюстрируйте графически. Посмотрите как в семинаре сделана подсведка отрезка командой PLOT и точно так же нарисуйте свой отрезок допустимых начальных значений"
      ],
      "metadata": {
        "id": "8oMQ4rN3JNUK"
      }
    },
    {
      "cell_type": "code",
      "source": [
        "good_steps = []\n",
        "interval = (1,1.5)\n",
        "i = interval[0]\n",
        "while i <= interval[1]:\n",
        "  newton_steps_x = newton_root(researched_func, i, interval)\n",
        "  \n",
        "  if (newton_steps_x): good_steps.append(i)\n",
        "  i+=0.05\n",
        "\n",
        "\n",
        "for i in range(0, len(good_steps)-1):\n",
        "  plt.plot([good_steps[i],good_steps[i+1]],[0,0],color = (1,0,0,0.5), linewidth = 5)\n",
        "\n",
        "plot_func(researched_func)"
      ],
      "metadata": {
        "colab": {
          "base_uri": "https://localhost:8080/",
          "height": 563
        },
        "id": "inz2XovkJM6b",
        "outputId": "e0ccca7d-60a1-46cd-9441-12312215c875"
      },
      "execution_count": 25,
      "outputs": [
        {
          "output_type": "stream",
          "name": "stdout",
          "text": [
            "The method does not converge\n",
            "The method does not converge\n",
            "The method does not converge\n",
            "The root is found in  5 steps\n",
            "the root is  1.3334\n",
            "The root is found in  4 steps\n",
            "the root is  1.3334\n",
            "The root is found in  4 steps\n",
            "the root is  1.3334\n",
            "The root is found in  3 steps\n",
            "the root is  1.3334\n",
            "The root is found in  3 steps\n",
            "the root is  1.3334\n",
            "The root is found in  3 steps\n",
            "the root is  1.3334\n",
            "The root is found in  4 steps\n",
            "the root is  1.3334\n"
          ]
        },
        {
          "output_type": "display_data",
          "data": {
            "image/png": "[encoded data removed]",
            "text/plain": [
              "<Figure size 432x288 with 1 Axes>"
            ]
          },
          "metadata": {
            "needs_background": "light"
          }
        }
      ]
    },
    {
      "cell_type": "markdown",
      "source": [
        "Графическое представление корня "
      ],
      "metadata": {
        "id": "r-sZ1OqLL3wh"
      }
    },
    {
      "cell_type": "code",
      "source": [
        "plot_roots_sequence(newton_steps_x)\n",
        "x = np.linspace(0.5,2,100)\n",
        "y = researched_func(x)\n",
        "plt.plot(x,y)\n",
        "plt.grid(True)\n",
        "plt.show()"
      ],
      "metadata": {
        "colab": {
          "base_uri": "https://localhost:8080/",
          "height": 267
        },
        "id": "UEKWrTzNLuhL",
        "outputId": "a734ab55-6b0e-4918-cc4e-08653f5cb584"
      },
      "execution_count": 26,
      "outputs": [
        {
          "output_type": "display_data",
          "data": {
            "image/png": "[encoded data removed]",
            "text/plain": [
              "<Figure size 432x288 with 1 Axes>"
            ]
          },
          "metadata": {
            "needs_background": "light"
          }
        }
      ]
    },
    {
      "cell_type": "markdown",
      "source": [
        "##Иследование"
      ],
      "metadata": {
        "id": "adM42pnaMS8S"
      }
    },
    {
      "cell_type": "markdown",
      "source": [
        "> **Задание № 5**  Перепишите метод ньютона так чтобы он всегда делал фиксированное заранее заданное количество итераций\n"
      ],
      "metadata": {
        "id": "lNzwjSLTMojx"
      }
    },
    {
      "cell_type": "code",
      "source": [
        "def newton_root(func,first_approx,interval,steps, eps = 0.0001):\n",
        "\n",
        "    def numerical_diff(x,eps = 0.001):\n",
        "      # нахождение производная\n",
        "        res = (1+1/x)*np.cos(2*x)-2*(np.log(x)+x)*np.sin(2*x)\n",
        "        return res\n",
        "    \n",
        "    x = first_approx\n",
        "    x_next = x\n",
        "\n",
        "    ### Основная проблема метода ньютона - определить зациклился он или нет\n",
        "    error = False\n",
        "\n",
        "    f_next = func(x)\n",
        "    f_current = func(x)*100\n",
        "    df = numerical_diff(x)\n",
        "    \n",
        "    # Создаем массив корней куда запишем последовательно все результаты\n",
        "    x_array = []\n",
        "    x_array.append(x)\n",
        "\n",
        "    for i in range(steps):\n",
        "          x = x_next\n",
        "          f_current = func(x)\n",
        "          df = numerical_diff(x)\n",
        "\n",
        "          x_next = x - f_current/df\n",
        "          x_array.append(x_next)\n",
        "          f_next = func(x_next)\n",
        "\n",
        "          if (abs(f_next) - abs(f_current)) > 0:\n",
        "              error = True\n",
        "    if error:\n",
        "        print(\"The method does not converge\")\n",
        "        return None\n",
        "    else:\n",
        "        print(\"the root is \",round(x_next,4))\n",
        "        print(\"The root is found in \", steps, \"steps\")        \n",
        "        return x_array\n",
        "\n",
        "#Зададим вручную начальное приближение\n",
        "x_seed = 1.4\n",
        "#Кол-во заданных операций\n",
        "n_steps = 5\n",
        "# Посчитаем ответ\n",
        "newton_steps_x = newton_root(researched_func,x_seed,(1, 2),n_steps, 0.00000001)"
      ],
      "metadata": {
        "colab": {
          "base_uri": "https://localhost:8080/"
        },
        "id": "7kgDoPNFMmDl",
        "outputId": "0d13daf6-223a-4b79-a910-fd9e02073b87"
      },
      "execution_count": 42,
      "outputs": [
        {
          "output_type": "stream",
          "name": "stdout",
          "text": [
            "the root is  1.3307\n",
            "The root is found in  5 steps\n"
          ]
        }
      ]
    },
    {
      "cell_type": "markdown",
      "source": [
        "> **Задание № 6**  В качестве исследования сделайте следующее: Поменяйте код решения методом Ньютона таким образом чтобы принимать на вход функцию заданную символьно. Для этого используйте библиотеку Sympy или переменные Syms в Matlab. Посчитайте ее производную не численно как в коде выше, а аналитически используя команду DIFF. **В будущих лабораторных работах ставьте себе задачи для исследований самостоятельно или обращайтесь к преподавателю за заданием заранее, до срока сдачи.**"
      ],
      "metadata": {
        "id": "3Aph-X7OQmjv"
      }
    },
    {
      "cell_type": "code",
      "source": [
        "#Вылетала ошибка так и не понял как довести до работающего состаяния\n",
        "\n",
        "\n"
      ],
      "metadata": {
        "id": "bhFd4XS-QqnZ"
      },
      "execution_count": 1,
      "outputs": []
    }
  ],
  "metadata": {
    "colab": {
      "name": "Лабораторная_1_Мананников.ipynb",
      "provenance": [],
      "collapsed_sections": [],
      "include_colab_link": true
    },
    "kernelspec": {
      "display_name": "Python 3",
      "name": "python3"
    },
    "language_info": {
      "name": "python"
    }
  },
  "nbformat": 4,
  "nbformat_minor": 0
}